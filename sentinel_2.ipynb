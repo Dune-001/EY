{
  "cells": [
    {
      "cell_type": "markdown",
      "id": "9832f06c-2fa0-4564-a0ba-a35aab16cc8e",
      "metadata": {
        "id": "9832f06c-2fa0-4564-a0ba-a35aab16cc8e"
      },
      "source": [
        "# ***Sentinel-2 L2A data access with the Planetary Computer STAC API***"
      ]
    },
    {
      "cell_type": "markdown",
      "id": "86fa674c-a5d8-4f90-8e62-1c1460a6b3c2",
      "metadata": {
        "id": "86fa674c-a5d8-4f90-8e62-1c1460a6b3c2"
      },
      "source": [
        "## Importing tools for use in the data"
      ]
    },
    {
      "cell_type": "code",
      "execution_count": null,
      "id": "f01138bb-5361-4c7c-9bc0-5f7734eb99d7",
      "metadata": {
        "colab": {
          "base_uri": "https://localhost:8080/"
        },
        "collapsed": true,
        "id": "f01138bb-5361-4c7c-9bc0-5f7734eb99d7",
        "outputId": "88f4d5ca-e195-42db-dc24-51f2849620b7"
      },
      "outputs": [],
      "source": [
        "# suppress warnings\n",
        "import warnings\n",
        "warnings.filterwarnings('ignore')\n",
        "\n",
        "# installing dependencies to the environment\n",
        "!pip install rioxarray\n",
        "!pip install pystac-client\n",
        "!pip install stackstac\n",
        "!pip install planetary-computer\n",
        "!pip install odc-stac\n",
        "\n",
        "# import GIS tools\n",
        "import numpy as np\n",
        "import xarray as xr\n",
        "import matplotlib.pyplot as plt\n",
        "import rioxarray as rio\n",
        "import rasterio\n",
        "from matplotlib.cm import RdYlGn,jet,RdBu\n",
        "\n",
        "# import Planetary Computer tools\n",
        "import stackstac\n",
        "import pystac_client\n",
        "import planetary_computer\n",
        "from odc.stac import stac_load"
      ]
    },
    {
      "cell_type": "markdown",
      "id": "11bac02e-5164-4fbc-843d-29faa6d024fb",
      "metadata": {
        "id": "11bac02e-5164-4fbc-843d-29faa6d024fb"
      },
      "source": [
        "## Discover and load data for analysis"
      ]
    },
    {
      "cell_type": "code",
      "execution_count": null,
      "id": "39f6fe05-6333-4ac4-b410-8fab319d11f8",
      "metadata": {
        "id": "39f6fe05-6333-4ac4-b410-8fab319d11f8"
      },
      "outputs": [],
      "source": [
        "# define bounding box for entire data region (Latitude, Longitude)\n",
        "lower_left = (40.75, -74.01)\n",
        "upper_right = (40.88, -73.86)"
      ]
    },
    {
      "cell_type": "code",
      "execution_count": null,
      "id": "f65506f0-fd00-45ca-a181-2b061769769b",
      "metadata": {
        "id": "f65506f0-fd00-45ca-a181-2b061769769b"
      },
      "outputs": [],
      "source": [
        "# calculate bounds for doing an archive data search\n",
        "# bounds = (min_lon, min_lat, max_lon, max_lat)\n",
        "bounds = (lower_left[1], lower_left[0], upper_right[1], upper_right[0])"
      ]
    },
    {
      "cell_type": "code",
      "execution_count": null,
      "id": "b2619d7f-f29e-471c-aa41-a5d37e31f713",
      "metadata": {
        "id": "b2619d7f-f29e-471c-aa41-a5d37e31f713"
      },
      "outputs": [],
      "source": [
        "# define time wnidow\n",
        "time_window = \"2021-06-01/2021-09-01\""
      ]
    },
    {
      "cell_type": "code",
      "execution_count": null,
      "id": "f6f9337c-a0dd-4948-9a06-24dbbbfd0cd6",
      "metadata": {
        "id": "f6f9337c-a0dd-4948-9a06-24dbbbfd0cd6"
      },
      "outputs": [],
      "source": [
        "# searching the Planetary Computer's STAC endpoint\n",
        "stac = pystac_client.Client.open(\"https://planetarycomputer.microsoft.com/api/stac/v1\")\n",
        "\n",
        "search = stac.search(\n",
        "    bbox=bounds,\n",
        "    datetime=time_window,\n",
        "    collections=[\"sentinel-2-l2a\"],\n",
        "    query={\"eo:cloud_cover\": {\"lt\": 30}},\n",
        ")"
      ]
    },
    {
      "cell_type": "code",
      "execution_count": null,
      "id": "8c667fb0-d734-41da-bd3c-0d478190b4b0",
      "metadata": {
        "colab": {
          "base_uri": "https://localhost:8080/"
        },
        "id": "8c667fb0-d734-41da-bd3c-0d478190b4b0",
        "outputId": "d67bda11-5473-47f7-f73e-edb49336b182"
      },
      "outputs": [],
      "source": [
        "# finding number of scenes that touch our region\n",
        "items = list(search.get_items())\n",
        "print('This is the number of scenes that touch our region: ',len(items))"
      ]
    },
    {
      "cell_type": "markdown",
      "id": "d20c7640-2df8-4be6-ad5c-961a8905625b",
      "metadata": {
        "id": "d20c7640-2df8-4be6-ad5c-961a8905625b"
      },
      "source": [
        "### load data into an xarray using stackstac"
      ]
    },
    {
      "cell_type": "code",
      "execution_count": null,
      "id": "a8ab4227-28e3-4c0e-825f-e7e497a01d8a",
      "metadata": {
        "id": "a8ab4227-28e3-4c0e-825f-e7e497a01d8a"
      },
      "outputs": [],
      "source": [
        "# epsg = 4326, for longitude-latitude in degrees\n",
        "signed_items = [planetary_computer.sign(item).to_dict() for item in items]"
      ]
    },
    {
      "cell_type": "code",
      "execution_count": null,
      "id": "e269467a-aeb0-4d1e-9ccb-c16894be7c7e",
      "metadata": {
        "id": "e269467a-aeb0-4d1e-9ccb-c16894be7c7e"
      },
      "outputs": [],
      "source": [
        "# define pixel resolution for final product\n",
        "# define scale according to selected crs, (i'll use degrees)\n",
        "resolution = 10 # meters per pixel\n",
        "scale = resolution / 111320.0 # degrees per pixel fpr crs=4326"
      ]
    },
    {
      "cell_type": "code",
      "execution_count": null,
      "id": "7c8e6922-0071-4da1-aac0-6516fff30b8f",
      "metadata": {
        "id": "7c8e6922-0071-4da1-aac0-6516fff30b8f"
      },
      "outputs": [],
      "source": [
        "# load bands by odc-stac command\n",
        "data = stac_load(\n",
        "    items,\n",
        "    bands=[\"B01\", \"B02\", \"B03\", \"B04\", \"B05\", \"B06\", \"B07\", \"B08\", \"B8A\", \"B11\", \"B12\"],\n",
        "    crs=\"EPSG:4326\", # latitude-longitude\n",
        "    resolution=scale, # Degrees\n",
        "    chunks={\"x\": 2048, \"y\":2048},\n",
        "    dtype=\"uint16\",\n",
        "    patch_url=planetary_computer.sign,\n",
        "    bbox=bounds\n",
        ")"
      ]
    },
    {
      "cell_type": "code",
      "execution_count": null,
      "id": "7056ea06-a0f9-4950-b923-a273acd4e38b",
      "metadata": {
        "colab": {
          "base_uri": "https://localhost:8080/",
          "height": 531
        },
        "id": "7056ea06-a0f9-4950-b923-a273acd4e38b",
        "outputId": "26e65587-883f-4eb1-96a0-020b07c44649"
      },
      "outputs": [],
      "source": [
        "''' view the dimensions of our xarray and loaded variables\n",
        "to ensure we have the right coordinates and spectral bands '''\n",
        "display(data)"
      ]
    },
    {
      "cell_type": "markdown",
      "id": "87e1a2cb-c81e-4780-869e-9f692a823265",
      "metadata": {
        "id": "87e1a2cb-c81e-4780-869e-9f692a823265"
      },
      "source": [
        "## Viewing real color images from the time series"
      ]
    },
    {
      "cell_type": "code",
      "execution_count": null,
      "id": "4f973f61-d9e0-40f5-8230-63815d79f320",
      "metadata": {
        "colab": {
          "base_uri": "https://localhost:8080/",
          "height": 451
        },
        "id": "4f973f61-d9e0-40f5-8230-63815d79f320",
        "outputId": "7fc04ad6-4f31-4e77-ed49-04191d106e41"
      },
      "outputs": [],
      "source": [
        "# plot sample images from the time series\n",
        "plot_data = data[[\"B04\", \"B03\", \"B02\"]].to_array()\n",
        "plot_data.plot.imshow(col='time', col_wrap=4, robust=True, vmin=0, vmax=2500)\n",
        "plt.show()"
      ]
    },
    {
      "cell_type": "code",
      "execution_count": null,
      "id": "231afbed-e8df-4b97-957e-2df4c85ebed1",
      "metadata": {
        "colab": {
          "base_uri": "https://localhost:8080/",
          "height": 521
        },
        "id": "231afbed-e8df-4b97-957e-2df4c85ebed1",
        "outputId": "99ecbec4-6af2-421c-bf49-d800b14e6439"
      },
      "outputs": [],
      "source": [
        "# plot image for a single date\n",
        "fig, ax = plt.subplots(figsize=(6,6))\n",
        "plot_data.isel(time=7).plot.imshow(robust=True, ax=ax, vmin=0, vmax=2500)\n",
        "ax.set_title(\"RGB Single Date: July 24, 2021\")\n",
        "ax.axis('off')\n",
        "plt.show()"
      ]
    },
    {
      "cell_type": "markdown",
      "id": "I9LLQA7WhixD",
      "metadata": {
        "id": "I9LLQA7WhixD"
      },
      "source": [
        "## Median composite"
      ]
    },
    {
      "cell_type": "code",
      "execution_count": null,
      "id": "uw02RPBehpuD",
      "metadata": {
        "id": "uw02RPBehpuD"
      },
      "outputs": [],
      "source": [
        "median = data.median(dim=\"time\").compute()"
      ]
    },
    {
      "cell_type": "code",
      "execution_count": null,
      "id": "_gU3tWuVitxR",
      "metadata": {
        "colab": {
          "base_uri": "https://localhost:8080/",
          "height": 521
        },
        "id": "_gU3tWuVitxR",
        "outputId": "812dbf4d-7f9e-4bdb-9873-76036b47c33e"
      },
      "outputs": [],
      "source": [
        "# plot an image for median composite or mosaic\n",
        "fig, ax = plt.subplots(figsize=(6,6))\n",
        "#debuging\n",
        "#print(type(median))\n",
        "median[[\"B04\", \"B03\", \"B02\"]].to_array().plot.imshow(robust=True, ax=ax, vmin=0, vmax=2500)\n",
        "ax.set_title(\"RGB Median Composite\")\n",
        "ax.axis('off')\n",
        "plt.show()\n",
        "# the image is void of clouds due to statistical filtering"
      ]
    },
    {
      "cell_type": "markdown",
      "id": "ClPLdlFWk-VR",
      "metadata": {
        "id": "ClPLdlFWk-VR"
      },
      "source": [
        "### Normalized Difference Vegetation Index (NDVI)"
      ]
    },
    {
      "cell_type": "code",
      "execution_count": null,
      "id": "G2j1Sds6lIxK",
      "metadata": {
        "id": "G2j1Sds6lIxK"
      },
      "outputs": [],
      "source": [
        "# calculate NDVI for median mosaic\n",
        "ndvi_median = (median.B08-median.B04)/(median.B08+median.B04)"
      ]
    },
    {
      "cell_type": "code",
      "execution_count": null,
      "id": "SX9Xno4Zlkay",
      "metadata": {
        "colab": {
          "base_uri": "https://localhost:8080/",
          "height": 529
        },
        "id": "SX9Xno4Zlkay",
        "outputId": "3e81c8f8-a828-42c7-efe2-d83f82b671a1"
      },
      "outputs": [],
      "source": [
        "# plot image for ndvi median mosaic\n",
        "fig, ax = plt.subplots(figsize=(6,6))\n",
        "ndvi_median.plot.imshow(robust=True, ax=ax, cmap=RdYlGn, vmin=-1, vmax=1)\n",
        "plt.title(\"NDVI median composite\")\n",
        "plt.axis('off')\n",
        "plt.show()"
      ]
    },
    {
      "cell_type": "markdown",
      "id": "o0hUpMv8nSLt",
      "metadata": {
        "id": "o0hUpMv8nSLt"
      },
      "source": [
        "### Normalized Difference Buildup Index (NDBI)"
      ]
    },
    {
      "cell_type": "code",
      "execution_count": null,
      "id": "EBn83IYPnarK",
      "metadata": {
        "id": "EBn83IYPnarK"
      },
      "outputs": [],
      "source": [
        "# calculate NDBI for median mosaic\n",
        "ndbi_median = (median.B11-median.B08)/(median.B11+median.B08)"
      ]
    },
    {
      "cell_type": "code",
      "execution_count": null,
      "id": "7nYLXstSpYfy",
      "metadata": {
        "colab": {
          "base_uri": "https://localhost:8080/",
          "height": 521
        },
        "id": "7nYLXstSpYfy",
        "outputId": "d2f5f6e1-bd39-4961-9bd9-523f0dc6cb30"
      },
      "outputs": [],
      "source": [
        "fig, ax = plt.subplots(figsize=(6,6))\n",
        "ndbi_median.plot.imshow(robust=True, ax=ax, cmap=RdYlGn, vmin=-0.1, vmax=0.1) #cmap=\"jet\"\n",
        "plt.title(\"NDBI median composite\")\n",
        "plt.axis('off')\n",
        "plt.show()"
      ]
    },
    {
      "cell_type": "markdown",
      "id": "FwMMQk1vqw-q",
      "metadata": {
        "id": "FwMMQk1vqw-q"
      },
      "source": [
        "### Normalized Difference Water Index"
      ]
    },
    {
      "cell_type": "code",
      "execution_count": null,
      "id": "J5QuzgPVq2pK",
      "metadata": {
        "id": "J5QuzgPVq2pK"
      },
      "outputs": [],
      "source": [
        "# calculate NDWI for the median mosaic\n",
        "ndwi_median = (median.B03-median.B08)/(median.B03+median.B08)"
      ]
    },
    {
      "cell_type": "code",
      "execution_count": null,
      "id": "KgIoqTTprLu6",
      "metadata": {
        "colab": {
          "base_uri": "https://localhost:8080/",
          "height": 529
        },
        "id": "KgIoqTTprLu6",
        "outputId": "f6bc82d5-0d5b-4a2a-dceb-26fdafaef701"
      },
      "outputs": [],
      "source": [
        "fig, ax = plt.subplots(figsize=(6,6))\n",
        "ndwi_median.plot.imshow(robust=True, ax=ax, cmap=RdYlGn, vmin=-1, vmax=1)\n",
        "plt.title(\"NDWI median composite\")\n",
        "plt.axis('off')\n",
        "plt.show()"
      ]
    },
    {
      "cell_type": "markdown",
      "id": "665RUzcWsC0K",
      "metadata": {
        "id": "665RUzcWsC0K"
      },
      "source": [
        "## Save output data in a GeoTIFF file"
      ]
    },
    {
      "cell_type": "code",
      "execution_count": null,
      "id": "_nIJz1mHsMda",
      "metadata": {
        "id": "_nIJz1mHsMda"
      },
      "outputs": [],
      "source": [
        "filename = \"S2_sample.tiff\""
      ]
    },
    {
      "cell_type": "code",
      "execution_count": null,
      "id": "6ANacVwHs_Bq",
      "metadata": {
        "id": "6ANacVwHs_Bq"
      },
      "outputs": [],
      "source": [
        "# pick a single time slice July 24, 2021 (time=7)\n",
        "data_slice = data.isel(time=7)"
      ]
    },
    {
      "cell_type": "code",
      "execution_count": null,
      "id": "9QhhVW2htYlB",
      "metadata": {
        "id": "9QhhVW2htYlB"
      },
      "outputs": [],
      "source": [
        "# calculate dimensions of the file\n",
        "# height = data_slice.dims[\"latitude\"]\n",
        "# width = data_slice.dims[\"longitude\"]\n",
        "height = data_slice.dims[\"latitude\"]\n",
        "width = data_slice.dims[\"longitude\"]"
      ]
    },
    {
      "cell_type": "code",
      "execution_count": null,
      "id": "ecSqhu95uCSy",
      "metadata": {
        "colab": {
          "base_uri": "https://localhost:8080/",
          "height": 531
        },
        "id": "ecSqhu95uCSy",
        "outputId": "0c42206a-70cb-4d2c-fbcf-840484d88365"
      },
      "outputs": [],
      "source": [
        "# Define CRS to be common Lat-Lon coordinates\n",
        "# Define transformation using our bounding box, Lat-Lon info is written to the GeoTIFF\n",
        "gt = rasterio.transform.from_bounds(lower_left[1], lower_left[0], upper_right[1], upper_right[0], width, height)\n",
        "data_slice.rio.write_crs(\"epsg:4326\", inplace=True)\n",
        "data_slice.rio.write_transform(transform=gt, inplace=True)"
      ]
    },
    {
      "cell_type": "code",
      "execution_count": null,
      "id": "EHNp6oDKv9qZ",
      "metadata": {
        "id": "EHNp6oDKv9qZ"
      },
      "outputs": [],
      "source": [
        "# create the GeoTIFF output file using the defined parameters\n",
        "with rasterio.open(filename, 'w', driver='GTiff', width=width, height=height, crs='epsg:4326', transform=gt, count=11, compress='lzw', dtype='float64') as dst:\n",
        "  dst.write(data_slice.B01,1)\n",
        "  dst.write(data_slice.B02,2)\n",
        "  dst.write(data_slice.B03,3)\n",
        "  dst.write(data_slice.B04,4)\n",
        "  dst.write(data_slice.B05,5)\n",
        "  dst.write(data_slice.B06,6)\n",
        "  dst.write(data_slice.B07,7)\n",
        "  dst.write(data_slice.B08,8)\n",
        "  dst.write(data_slice.B8A,9)\n",
        "  dst.write(data_slice.B11,10)\n",
        "  dst.write(data_slice.B12,11)\n",
        "  dst.close()"
      ]
    },
    {
      "cell_type": "code",
      "execution_count": null,
      "id": "xAhbrEeI1aqR",
      "metadata": {
        "colab": {
          "base_uri": "https://localhost:8080/"
        },
        "id": "xAhbrEeI1aqR",
        "outputId": "709a149a-a51f-41a0-b407-68c3e3e2376f"
      },
      "outputs": [],
      "source": [
        "# show location ad size of new output file\n",
        "!dir *.tiff"
      ]
    }
  ],
  "metadata": {
    "colab": {
      "provenance": []
    },
    "kernelspec": {
      "display_name": "Python 3",
      "language": "python",
      "name": "python3"
    },
    "language_info": {
      "codemirror_mode": {
        "name": "ipython",
        "version": 3
      },
      "file_extension": ".py",
      "mimetype": "text/x-python",
      "name": "python",
      "nbconvert_exporter": "python",
      "pygments_lexer": "ipython3",
      "version": "3.12.3"
    }
  },
  "nbformat": 4,
  "nbformat_minor": 5
}
